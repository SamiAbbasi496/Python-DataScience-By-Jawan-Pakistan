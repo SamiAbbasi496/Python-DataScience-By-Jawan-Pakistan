{
 "cells": [
  {
   "cell_type": "code",
   "execution_count": 1,
   "id": "0036f6b3",
   "metadata": {},
   "outputs": [
    {
     "name": "stdout",
     "output_type": "stream",
     "text": [
      "Twinkle,twinkle,little Star,\n",
      "        How i wonder what you are!\n",
      "                Up above the world so high,\n",
      "                Like a diamond in the sky.\n",
      "Twinkle,twinkle,little Star,\n",
      "        How i wonder what you are!\n"
     ]
    }
   ],
   "source": [
    "print(\"Twinkle,twinkle,little Star,\")\n",
    "print(\"        How i wonder what you are!\")\n",
    "print(\"                Up above the world so high,\")\n",
    "print(\"                Like a diamond in the sky.\")\n",
    "print(\"Twinkle,twinkle,little Star,\")\n",
    "print(\"        How i wonder what you are!\")"
   ]
  },
  {
   "cell_type": "code",
   "execution_count": 2,
   "id": "4c1adcfc",
   "metadata": {},
   "outputs": [
    {
     "name": "stdout",
     "output_type": "stream",
     "text": [
      "Python 3.9.7\n"
     ]
    }
   ],
   "source": [
    "!python --version"
   ]
  },
  {
   "cell_type": "code",
   "execution_count": 3,
   "id": "568df8f6",
   "metadata": {},
   "outputs": [
    {
     "name": "stdout",
     "output_type": "stream",
     "text": [
      "now = 2022-01-03 18:20:30.313742\n",
      "date and time = 03/01/2022 18:20:30\n"
     ]
    }
   ],
   "source": [
    "from datetime import datetime\n",
    "now = datetime.now()\n",
    "print(\"now =\", now)\n",
    "dt_string = now.strftime(\"%d/%m/%Y %H:%M:%S\")\n",
    "print(\"date and time =\", dt_string)\t\n"
   ]
  },
  {
   "cell_type": "code",
   "execution_count": 4,
   "id": "b32a7f87",
   "metadata": {},
   "outputs": [
    {
     "name": "stdout",
     "output_type": "stream",
     "text": [
      "Area= 50.272\n"
     ]
    }
   ],
   "source": [
    "radius=4\n",
    "square_of_radius=radius * radius\n",
    "π=3.142\n",
    "Area= π * square_of_radius\n",
    "print(\"Area=\",Area)"
   ]
  },
  {
   "cell_type": "code",
   "execution_count": 1,
   "id": "ba392bbb",
   "metadata": {},
   "outputs": [
    {
     "name": "stdout",
     "output_type": "stream",
     "text": [
      "Enter your first name Sami\n",
      "Enter your last name Abbasi\n",
      "Hello Abbasi Sami\n"
     ]
    }
   ],
   "source": [
    "fname=input(\"Enter your first name \")\n",
    "Lname=input(\"Enter your last name \")\n",
    "print(\"Hello\",Lname,fname)\n"
   ]
  },
  {
   "cell_type": "code",
   "execution_count": 2,
   "id": "616ff248",
   "metadata": {},
   "outputs": [
    {
     "name": "stdout",
     "output_type": "stream",
     "text": [
      "Enter first no 3\n",
      "Enter first no 4\n",
      "Sum of these two no are 7\n"
     ]
    }
   ],
   "source": [
    "num1=input(\"Enter first no \")\n",
    "num2=input(\"Enter first no \")\n",
    "Num=int(num1) + int(num2)\n",
    "print(\"Sum of these two no are\",Num)"
   ]
  },
  {
   "cell_type": "code",
   "execution_count": null,
   "id": "b05de5b0",
   "metadata": {},
   "outputs": [],
   "source": []
  }
 ],
 "metadata": {
  "kernelspec": {
   "display_name": "Python 3 (ipykernel)",
   "language": "python",
   "name": "python3"
  },
  "language_info": {
   "codemirror_mode": {
    "name": "ipython",
    "version": 3
   },
   "file_extension": ".py",
   "mimetype": "text/x-python",
   "name": "python",
   "nbconvert_exporter": "python",
   "pygments_lexer": "ipython3",
   "version": "3.9.7"
  }
 },
 "nbformat": 4,
 "nbformat_minor": 5
}
